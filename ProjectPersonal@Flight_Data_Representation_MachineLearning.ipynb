{
 "cells": [
  {
   "cell_type": "code",
   "execution_count": 76,
   "metadata": {},
   "outputs": [
    {
     "name": "stdout",
     "output_type": "stream",
     "text": [
      "*******Flight_Data_Project********\n"
     ]
    }
   ],
   "source": [
    "print('*******Flight_Data_Project********')"
   ]
  },
  {
   "cell_type": "code",
   "execution_count": 2,
   "metadata": {},
   "outputs": [],
   "source": [
    "import pandas as pd\n",
    "import numpy as np\n",
    "import matplotlib.pyplot as plt\n",
    "import sklearn\n",
    "from sklearn.model_selection import train_test_split\n",
    "from sklearn import preprocessing\n",
    "from sklearn.preprocessing import LabelEncoder\n",
    "from sklearn import metrics\n",
    "import seaborn as sn\n",
    "from sklearn.metrics import confusion_matrix\n",
    "import re\n",
    "%matplotlib inline\n",
    "from sklearn import model_selection, preprocessing, naive_bayes,metrics\n",
    "from sklearn.feature_extraction.text import TfidfVectorizer"
   ]
  },
  {
   "cell_type": "code",
   "execution_count": 4,
   "metadata": {},
   "outputs": [
    {
     "name": "stdout",
     "output_type": "stream",
     "text": [
      "(10683, 11)\n"
     ]
    }
   ],
   "source": [
    "df_flights = pd.read_csv('/Users/jaswanthjerripothula/Downloads/flights_data.csv')\n",
    "print(df_flights.shape)"
   ]
  },
  {
   "cell_type": "code",
   "execution_count": 5,
   "metadata": {},
   "outputs": [
    {
     "data": {
      "text/html": [
       "<div>\n",
       "<style scoped>\n",
       "    .dataframe tbody tr th:only-of-type {\n",
       "        vertical-align: middle;\n",
       "    }\n",
       "\n",
       "    .dataframe tbody tr th {\n",
       "        vertical-align: top;\n",
       "    }\n",
       "\n",
       "    .dataframe thead th {\n",
       "        text-align: right;\n",
       "    }\n",
       "</style>\n",
       "<table border=\"1\" class=\"dataframe\">\n",
       "  <thead>\n",
       "    <tr style=\"text-align: right;\">\n",
       "      <th></th>\n",
       "      <th>Airline</th>\n",
       "      <th>Date_of_Journey</th>\n",
       "      <th>Source</th>\n",
       "      <th>Destination</th>\n",
       "      <th>Route</th>\n",
       "      <th>Dep_Time</th>\n",
       "      <th>Arrival_Time</th>\n",
       "      <th>Duration(minutes)</th>\n",
       "      <th>Total_Stops</th>\n",
       "      <th>Additional_Info</th>\n",
       "      <th>Price</th>\n",
       "    </tr>\n",
       "  </thead>\n",
       "  <tbody>\n",
       "    <tr>\n",
       "      <th>0</th>\n",
       "      <td>IndiGo</td>\n",
       "      <td>24/03/2019</td>\n",
       "      <td>Banglore</td>\n",
       "      <td>New Delhi</td>\n",
       "      <td>BLR → DEL</td>\n",
       "      <td>22:20</td>\n",
       "      <td>01:10 22 Mar</td>\n",
       "      <td>170</td>\n",
       "      <td>0</td>\n",
       "      <td>No info</td>\n",
       "      <td>3897</td>\n",
       "    </tr>\n",
       "    <tr>\n",
       "      <th>1</th>\n",
       "      <td>Air India</td>\n",
       "      <td>1/05/2019</td>\n",
       "      <td>Kolkata</td>\n",
       "      <td>Banglore</td>\n",
       "      <td>CCU → IXR → BBI → BLR</td>\n",
       "      <td>05:50</td>\n",
       "      <td>13:15</td>\n",
       "      <td>445</td>\n",
       "      <td>2</td>\n",
       "      <td>No info</td>\n",
       "      <td>7662</td>\n",
       "    </tr>\n",
       "    <tr>\n",
       "      <th>2</th>\n",
       "      <td>Jet Airways</td>\n",
       "      <td>9/06/2019</td>\n",
       "      <td>Delhi</td>\n",
       "      <td>Cochin</td>\n",
       "      <td>DEL → LKO → BOM → COK</td>\n",
       "      <td>09:25</td>\n",
       "      <td>04:25 10 Jun</td>\n",
       "      <td>1140</td>\n",
       "      <td>2</td>\n",
       "      <td>No info</td>\n",
       "      <td>13882</td>\n",
       "    </tr>\n",
       "    <tr>\n",
       "      <th>3</th>\n",
       "      <td>IndiGo</td>\n",
       "      <td>12/05/2019</td>\n",
       "      <td>Kolkata</td>\n",
       "      <td>Banglore</td>\n",
       "      <td>CCU → NAG → BLR</td>\n",
       "      <td>18:05</td>\n",
       "      <td>23:30</td>\n",
       "      <td>325</td>\n",
       "      <td>1</td>\n",
       "      <td>No info</td>\n",
       "      <td>6218</td>\n",
       "    </tr>\n",
       "    <tr>\n",
       "      <th>4</th>\n",
       "      <td>IndiGo</td>\n",
       "      <td>01/03/2019</td>\n",
       "      <td>Banglore</td>\n",
       "      <td>New Delhi</td>\n",
       "      <td>BLR → NAG → DEL</td>\n",
       "      <td>16:50</td>\n",
       "      <td>21:35</td>\n",
       "      <td>285</td>\n",
       "      <td>1</td>\n",
       "      <td>No info</td>\n",
       "      <td>13302</td>\n",
       "    </tr>\n",
       "    <tr>\n",
       "      <th>5</th>\n",
       "      <td>SpiceJet</td>\n",
       "      <td>24/06/2019</td>\n",
       "      <td>Kolkata</td>\n",
       "      <td>Banglore</td>\n",
       "      <td>CCU → BLR</td>\n",
       "      <td>09:00</td>\n",
       "      <td>11:25</td>\n",
       "      <td>145</td>\n",
       "      <td>0</td>\n",
       "      <td>No info</td>\n",
       "      <td>3873</td>\n",
       "    </tr>\n",
       "    <tr>\n",
       "      <th>6</th>\n",
       "      <td>Jet Airways</td>\n",
       "      <td>12/03/2019</td>\n",
       "      <td>Banglore</td>\n",
       "      <td>New Delhi</td>\n",
       "      <td>BLR → BOM → DEL</td>\n",
       "      <td>18:55</td>\n",
       "      <td>10:25 13 Mar</td>\n",
       "      <td>930</td>\n",
       "      <td>1</td>\n",
       "      <td>In-flight meal not included</td>\n",
       "      <td>11087d</td>\n",
       "    </tr>\n",
       "    <tr>\n",
       "      <th>7</th>\n",
       "      <td>Jet Airways</td>\n",
       "      <td>01/03/2019</td>\n",
       "      <td>Banglore</td>\n",
       "      <td>New Delhi</td>\n",
       "      <td>BLR → BOM → DEL</td>\n",
       "      <td>08:00</td>\n",
       "      <td>05:05 02 Mar</td>\n",
       "      <td>1265</td>\n",
       "      <td>1</td>\n",
       "      <td>No info</td>\n",
       "      <td>22270</td>\n",
       "    </tr>\n",
       "    <tr>\n",
       "      <th>8</th>\n",
       "      <td>Jet Airways</td>\n",
       "      <td>12/03/2019</td>\n",
       "      <td>Banglore</td>\n",
       "      <td>New Delhi</td>\n",
       "      <td>BLR → BOM → DEL</td>\n",
       "      <td>08:55</td>\n",
       "      <td>10:25 13 Mar</td>\n",
       "      <td>1530</td>\n",
       "      <td>1</td>\n",
       "      <td>In-flight meal not included</td>\n",
       "      <td>11087</td>\n",
       "    </tr>\n",
       "    <tr>\n",
       "      <th>9</th>\n",
       "      <td>Multiple carriers</td>\n",
       "      <td>27/05/2019</td>\n",
       "      <td>Delhi</td>\n",
       "      <td>Cochin</td>\n",
       "      <td>DEL → BOM → COK</td>\n",
       "      <td>11:25</td>\n",
       "      <td>19:15</td>\n",
       "      <td>470</td>\n",
       "      <td>1</td>\n",
       "      <td>No info</td>\n",
       "      <td>8625</td>\n",
       "    </tr>\n",
       "    <tr>\n",
       "      <th>10</th>\n",
       "      <td>Air India</td>\n",
       "      <td>1/06/2019</td>\n",
       "      <td>Delhi</td>\n",
       "      <td>Cochin</td>\n",
       "      <td>DEL → BLR → COK</td>\n",
       "      <td>09:45</td>\n",
       "      <td>23:00</td>\n",
       "      <td>795</td>\n",
       "      <td>1</td>\n",
       "      <td>No info</td>\n",
       "      <td>8907</td>\n",
       "    </tr>\n",
       "  </tbody>\n",
       "</table>\n",
       "</div>"
      ],
      "text/plain": [
       "              Airline Date_of_Journey    Source Destination  \\\n",
       "0              IndiGo      24/03/2019  Banglore   New Delhi   \n",
       "1           Air India       1/05/2019   Kolkata    Banglore   \n",
       "2         Jet Airways       9/06/2019     Delhi      Cochin   \n",
       "3              IndiGo      12/05/2019   Kolkata    Banglore   \n",
       "4              IndiGo      01/03/2019  Banglore   New Delhi   \n",
       "5            SpiceJet      24/06/2019   Kolkata    Banglore   \n",
       "6         Jet Airways      12/03/2019  Banglore   New Delhi   \n",
       "7         Jet Airways      01/03/2019  Banglore   New Delhi   \n",
       "8         Jet Airways      12/03/2019  Banglore   New Delhi   \n",
       "9   Multiple carriers      27/05/2019     Delhi      Cochin   \n",
       "10          Air India       1/06/2019     Delhi      Cochin   \n",
       "\n",
       "                    Route Dep_Time  Arrival_Time  Duration(minutes)  \\\n",
       "0               BLR → DEL    22:20  01:10 22 Mar                170   \n",
       "1   CCU → IXR → BBI → BLR    05:50         13:15                445   \n",
       "2   DEL → LKO → BOM → COK    09:25  04:25 10 Jun               1140   \n",
       "3         CCU → NAG → BLR    18:05         23:30                325   \n",
       "4         BLR → NAG → DEL    16:50         21:35                285   \n",
       "5               CCU → BLR    09:00         11:25                145   \n",
       "6         BLR → BOM → DEL    18:55  10:25 13 Mar                930   \n",
       "7         BLR → BOM → DEL    08:00  05:05 02 Mar               1265   \n",
       "8         BLR → BOM → DEL    08:55  10:25 13 Mar               1530   \n",
       "9         DEL → BOM → COK    11:25         19:15                470   \n",
       "10        DEL → BLR → COK    09:45         23:00                795   \n",
       "\n",
       "   Total_Stops              Additional_Info   Price  \n",
       "0            0                      No info    3897  \n",
       "1            2                      No info    7662  \n",
       "2            2                      No info   13882  \n",
       "3            1                      No info    6218  \n",
       "4            1                      No info   13302  \n",
       "5            0                      No info    3873  \n",
       "6            1  In-flight meal not included  11087d  \n",
       "7            1                      No info   22270  \n",
       "8            1  In-flight meal not included   11087  \n",
       "9            1                      No info    8625  \n",
       "10           1                      No info    8907  "
      ]
     },
     "execution_count": 5,
     "metadata": {},
     "output_type": "execute_result"
    }
   ],
   "source": [
    "df_flights.head(11)"
   ]
  },
  {
   "cell_type": "code",
   "execution_count": 6,
   "metadata": {},
   "outputs": [
    {
     "data": {
      "text/html": [
       "<div>\n",
       "<style scoped>\n",
       "    .dataframe tbody tr th:only-of-type {\n",
       "        vertical-align: middle;\n",
       "    }\n",
       "\n",
       "    .dataframe tbody tr th {\n",
       "        vertical-align: top;\n",
       "    }\n",
       "\n",
       "    .dataframe thead th {\n",
       "        text-align: right;\n",
       "    }\n",
       "</style>\n",
       "<table border=\"1\" class=\"dataframe\">\n",
       "  <thead>\n",
       "    <tr style=\"text-align: right;\">\n",
       "      <th></th>\n",
       "      <th>Airline</th>\n",
       "      <th>Date_of_Journey</th>\n",
       "      <th>Source</th>\n",
       "      <th>Destination</th>\n",
       "      <th>Route</th>\n",
       "      <th>Dep_Time</th>\n",
       "      <th>Arrival_Time</th>\n",
       "      <th>Duration(minutes)</th>\n",
       "      <th>Total_Stops</th>\n",
       "      <th>Additional_Info</th>\n",
       "      <th>Price</th>\n",
       "    </tr>\n",
       "  </thead>\n",
       "  <tbody>\n",
       "    <tr>\n",
       "      <th>10672</th>\n",
       "      <td>Jet Airways</td>\n",
       "      <td>27/06/2019</td>\n",
       "      <td>Delhi</td>\n",
       "      <td>Cochin</td>\n",
       "      <td>DEL → AMD → BOM → COK</td>\n",
       "      <td>23:05</td>\n",
       "      <td>19:00 28 Jun</td>\n",
       "      <td>1195</td>\n",
       "      <td>2 stops</td>\n",
       "      <td>In-flight meal not included</td>\n",
       "      <td>11150</td>\n",
       "    </tr>\n",
       "    <tr>\n",
       "      <th>10673</th>\n",
       "      <td>Jet Airways</td>\n",
       "      <td>27/05/2019</td>\n",
       "      <td>Delhi</td>\n",
       "      <td>Cochin</td>\n",
       "      <td>DEL → AMD → BOM → COK</td>\n",
       "      <td>13:25</td>\n",
       "      <td>04:25 28 May</td>\n",
       "      <td>900</td>\n",
       "      <td>2 stops</td>\n",
       "      <td>No info</td>\n",
       "      <td>16704</td>\n",
       "    </tr>\n",
       "    <tr>\n",
       "      <th>10674</th>\n",
       "      <td>Jet Airways</td>\n",
       "      <td>12/03/2019</td>\n",
       "      <td>Banglore</td>\n",
       "      <td>New Delhi</td>\n",
       "      <td>BLR → BOM → DEL</td>\n",
       "      <td>20:35</td>\n",
       "      <td>21:20 13 Mar</td>\n",
       "      <td>1485</td>\n",
       "      <td>1 stop</td>\n",
       "      <td>In-flight meal not included</td>\n",
       "      <td>11087</td>\n",
       "    </tr>\n",
       "    <tr>\n",
       "      <th>10675</th>\n",
       "      <td>Air India</td>\n",
       "      <td>9/06/2019</td>\n",
       "      <td>Mumbai</td>\n",
       "      <td>Hyderabad</td>\n",
       "      <td>BOM → HYD</td>\n",
       "      <td>06:20</td>\n",
       "      <td>07:40</td>\n",
       "      <td>80</td>\n",
       "      <td>non-stop</td>\n",
       "      <td>No info</td>\n",
       "      <td>3100</td>\n",
       "    </tr>\n",
       "    <tr>\n",
       "      <th>10676</th>\n",
       "      <td>Multiple carriers</td>\n",
       "      <td>1/05/2019</td>\n",
       "      <td>Delhi</td>\n",
       "      <td>Cochin</td>\n",
       "      <td>DEL → BOM → COK</td>\n",
       "      <td>10:20</td>\n",
       "      <td>19:00</td>\n",
       "      <td>520</td>\n",
       "      <td>1 stop</td>\n",
       "      <td>No info</td>\n",
       "      <td>9794</td>\n",
       "    </tr>\n",
       "    <tr>\n",
       "      <th>10677</th>\n",
       "      <td>SpiceJet</td>\n",
       "      <td>21/05/2019</td>\n",
       "      <td>Banglore</td>\n",
       "      <td>Delhi</td>\n",
       "      <td>BLR → DEL</td>\n",
       "      <td>05:55</td>\n",
       "      <td>08:35</td>\n",
       "      <td>160</td>\n",
       "      <td>non-stop</td>\n",
       "      <td>No check-in baggage included</td>\n",
       "      <td>3257</td>\n",
       "    </tr>\n",
       "    <tr>\n",
       "      <th>10678</th>\n",
       "      <td>Air Asia</td>\n",
       "      <td>9/04/2019</td>\n",
       "      <td>Kolkata</td>\n",
       "      <td>Banglore</td>\n",
       "      <td>CCU → BLR</td>\n",
       "      <td>19:55</td>\n",
       "      <td>22:25</td>\n",
       "      <td>150</td>\n",
       "      <td>non-stop</td>\n",
       "      <td>No info</td>\n",
       "      <td>4107</td>\n",
       "    </tr>\n",
       "    <tr>\n",
       "      <th>10679</th>\n",
       "      <td>Air India</td>\n",
       "      <td>27/04/2019</td>\n",
       "      <td>Kolkata</td>\n",
       "      <td>Banglore</td>\n",
       "      <td>CCU → BLR</td>\n",
       "      <td>20:45</td>\n",
       "      <td>23:20</td>\n",
       "      <td>155</td>\n",
       "      <td>non-stop</td>\n",
       "      <td>No info</td>\n",
       "      <td>4145</td>\n",
       "    </tr>\n",
       "    <tr>\n",
       "      <th>10680</th>\n",
       "      <td>Jet Airways</td>\n",
       "      <td>27/04/2019</td>\n",
       "      <td>Banglore</td>\n",
       "      <td>Delhi</td>\n",
       "      <td>BLR → DEL</td>\n",
       "      <td>08:20</td>\n",
       "      <td>11:20</td>\n",
       "      <td>180</td>\n",
       "      <td>non-stop</td>\n",
       "      <td>No info</td>\n",
       "      <td>7229</td>\n",
       "    </tr>\n",
       "    <tr>\n",
       "      <th>10681</th>\n",
       "      <td>Vistara</td>\n",
       "      <td>01/03/2019</td>\n",
       "      <td>Banglore</td>\n",
       "      <td>New Delhi</td>\n",
       "      <td>BLR → DEL</td>\n",
       "      <td>11:30</td>\n",
       "      <td>14:10</td>\n",
       "      <td>160</td>\n",
       "      <td>non-stop</td>\n",
       "      <td>No info</td>\n",
       "      <td>12648</td>\n",
       "    </tr>\n",
       "    <tr>\n",
       "      <th>10682</th>\n",
       "      <td>Air India</td>\n",
       "      <td>9/05/2019</td>\n",
       "      <td>Delhi</td>\n",
       "      <td>Cochin</td>\n",
       "      <td>DEL → GOI → BOM → COK</td>\n",
       "      <td>10:55</td>\n",
       "      <td>19:15</td>\n",
       "      <td>500</td>\n",
       "      <td>2 stops</td>\n",
       "      <td>No info</td>\n",
       "      <td>11753</td>\n",
       "    </tr>\n",
       "  </tbody>\n",
       "</table>\n",
       "</div>"
      ],
      "text/plain": [
       "                 Airline Date_of_Journey    Source Destination  \\\n",
       "10672        Jet Airways      27/06/2019     Delhi      Cochin   \n",
       "10673        Jet Airways      27/05/2019     Delhi      Cochin   \n",
       "10674        Jet Airways      12/03/2019  Banglore   New Delhi   \n",
       "10675          Air India       9/06/2019    Mumbai   Hyderabad   \n",
       "10676  Multiple carriers       1/05/2019     Delhi      Cochin   \n",
       "10677           SpiceJet      21/05/2019  Banglore       Delhi   \n",
       "10678           Air Asia       9/04/2019   Kolkata    Banglore   \n",
       "10679          Air India      27/04/2019   Kolkata    Banglore   \n",
       "10680        Jet Airways      27/04/2019  Banglore       Delhi   \n",
       "10681            Vistara      01/03/2019  Banglore   New Delhi   \n",
       "10682          Air India       9/05/2019     Delhi      Cochin   \n",
       "\n",
       "                       Route Dep_Time  Arrival_Time  Duration(minutes)  \\\n",
       "10672  DEL → AMD → BOM → COK    23:05  19:00 28 Jun               1195   \n",
       "10673  DEL → AMD → BOM → COK    13:25  04:25 28 May                900   \n",
       "10674        BLR → BOM → DEL    20:35  21:20 13 Mar               1485   \n",
       "10675              BOM → HYD    06:20         07:40                 80   \n",
       "10676        DEL → BOM → COK    10:20         19:00                520   \n",
       "10677              BLR → DEL    05:55         08:35                160   \n",
       "10678              CCU → BLR    19:55         22:25                150   \n",
       "10679              CCU → BLR    20:45         23:20                155   \n",
       "10680              BLR → DEL    08:20         11:20                180   \n",
       "10681              BLR → DEL    11:30         14:10                160   \n",
       "10682  DEL → GOI → BOM → COK    10:55         19:15                500   \n",
       "\n",
       "      Total_Stops               Additional_Info  Price  \n",
       "10672     2 stops   In-flight meal not included  11150  \n",
       "10673     2 stops                       No info  16704  \n",
       "10674      1 stop   In-flight meal not included  11087  \n",
       "10675    non-stop                       No info   3100  \n",
       "10676      1 stop                       No info   9794  \n",
       "10677    non-stop  No check-in baggage included   3257  \n",
       "10678    non-stop                       No info   4107  \n",
       "10679    non-stop                       No info   4145  \n",
       "10680    non-stop                       No info   7229  \n",
       "10681    non-stop                       No info  12648  \n",
       "10682     2 stops                       No info  11753  "
      ]
     },
     "execution_count": 6,
     "metadata": {},
     "output_type": "execute_result"
    }
   ],
   "source": [
    "df_flights.tail(11)"
   ]
  },
  {
   "cell_type": "code",
   "execution_count": 12,
   "metadata": {},
   "outputs": [
    {
     "data": {
      "text/plain": [
       "Airline              10683\n",
       "Date_of_Journey      10683\n",
       "Source               10683\n",
       "Destination          10683\n",
       "Route                10667\n",
       "Dep_Time             10683\n",
       "Arrival_Time         10683\n",
       "Duration(minutes)    10683\n",
       "Total_Stops          10656\n",
       "Additional_Info      10683\n",
       "Price                10683\n",
       "dtype: int64"
      ]
     },
     "execution_count": 12,
     "metadata": {},
     "output_type": "execute_result"
    }
   ],
   "source": [
    "df_flights.count()"
   ]
  },
  {
   "cell_type": "code",
   "execution_count": 13,
   "metadata": {},
   "outputs": [
    {
     "data": {
      "text/html": [
       "<div>\n",
       "<style scoped>\n",
       "    .dataframe tbody tr th:only-of-type {\n",
       "        vertical-align: middle;\n",
       "    }\n",
       "\n",
       "    .dataframe tbody tr th {\n",
       "        vertical-align: top;\n",
       "    }\n",
       "\n",
       "    .dataframe thead tr th {\n",
       "        text-align: left;\n",
       "    }\n",
       "\n",
       "    .dataframe thead tr:last-of-type th {\n",
       "        text-align: right;\n",
       "    }\n",
       "</style>\n",
       "<table border=\"1\" class=\"dataframe\">\n",
       "  <thead>\n",
       "    <tr>\n",
       "      <th></th>\n",
       "      <th colspan=\"8\" halign=\"left\">Duration(minutes)</th>\n",
       "    </tr>\n",
       "    <tr>\n",
       "      <th></th>\n",
       "      <th>count</th>\n",
       "      <th>mean</th>\n",
       "      <th>std</th>\n",
       "      <th>min</th>\n",
       "      <th>25%</th>\n",
       "      <th>50%</th>\n",
       "      <th>75%</th>\n",
       "      <th>max</th>\n",
       "    </tr>\n",
       "    <tr>\n",
       "      <th>Airline</th>\n",
       "      <th></th>\n",
       "      <th></th>\n",
       "      <th></th>\n",
       "      <th></th>\n",
       "      <th></th>\n",
       "      <th></th>\n",
       "      <th></th>\n",
       "      <th></th>\n",
       "    </tr>\n",
       "  </thead>\n",
       "  <tbody>\n",
       "    <tr>\n",
       "      <th>Air Asia</th>\n",
       "      <td>319.0</td>\n",
       "      <td>348.275862</td>\n",
       "      <td>271.237275</td>\n",
       "      <td>150.0</td>\n",
       "      <td>155.0</td>\n",
       "      <td>170.0</td>\n",
       "      <td>500.00</td>\n",
       "      <td>955.0</td>\n",
       "    </tr>\n",
       "    <tr>\n",
       "      <th>Air India</th>\n",
       "      <td>1752.0</td>\n",
       "      <td>943.421804</td>\n",
       "      <td>604.195715</td>\n",
       "      <td>75.0</td>\n",
       "      <td>320.0</td>\n",
       "      <td>955.0</td>\n",
       "      <td>1440.00</td>\n",
       "      <td>2480.0</td>\n",
       "    </tr>\n",
       "    <tr>\n",
       "      <th>GoAir</th>\n",
       "      <td>194.0</td>\n",
       "      <td>298.969072</td>\n",
       "      <td>136.836838</td>\n",
       "      <td>155.0</td>\n",
       "      <td>175.0</td>\n",
       "      <td>310.0</td>\n",
       "      <td>370.00</td>\n",
       "      <td>555.0</td>\n",
       "    </tr>\n",
       "    <tr>\n",
       "      <th>IndiGo</th>\n",
       "      <td>2053.0</td>\n",
       "      <td>285.406722</td>\n",
       "      <td>218.846252</td>\n",
       "      <td>85.0</td>\n",
       "      <td>155.0</td>\n",
       "      <td>175.0</td>\n",
       "      <td>320.00</td>\n",
       "      <td>985.0</td>\n",
       "    </tr>\n",
       "    <tr>\n",
       "      <th>Jet Airways</th>\n",
       "      <td>3849.0</td>\n",
       "      <td>849.733697</td>\n",
       "      <td>507.925442</td>\n",
       "      <td>80.0</td>\n",
       "      <td>435.0</td>\n",
       "      <td>800.0</td>\n",
       "      <td>1295.00</td>\n",
       "      <td>2860.0</td>\n",
       "    </tr>\n",
       "    <tr>\n",
       "      <th>Jet Airways Business</th>\n",
       "      <td>6.0</td>\n",
       "      <td>386.666667</td>\n",
       "      <td>96.884811</td>\n",
       "      <td>280.0</td>\n",
       "      <td>310.0</td>\n",
       "      <td>370.0</td>\n",
       "      <td>475.00</td>\n",
       "      <td>500.0</td>\n",
       "    </tr>\n",
       "    <tr>\n",
       "      <th>Multiple carriers</th>\n",
       "      <td>1196.0</td>\n",
       "      <td>625.769231</td>\n",
       "      <td>156.407344</td>\n",
       "      <td>375.0</td>\n",
       "      <td>480.0</td>\n",
       "      <td>615.0</td>\n",
       "      <td>750.00</td>\n",
       "      <td>935.0</td>\n",
       "    </tr>\n",
       "    <tr>\n",
       "      <th>Multiple carriers Premium economy</th>\n",
       "      <td>13.0</td>\n",
       "      <td>606.538462</td>\n",
       "      <td>173.893941</td>\n",
       "      <td>395.0</td>\n",
       "      <td>440.0</td>\n",
       "      <td>620.0</td>\n",
       "      <td>725.00</td>\n",
       "      <td>900.0</td>\n",
       "    </tr>\n",
       "    <tr>\n",
       "      <th>SpiceJet</th>\n",
       "      <td>818.0</td>\n",
       "      <td>178.484108</td>\n",
       "      <td>89.628434</td>\n",
       "      <td>80.0</td>\n",
       "      <td>140.0</td>\n",
       "      <td>150.0</td>\n",
       "      <td>173.75</td>\n",
       "      <td>520.0</td>\n",
       "    </tr>\n",
       "    <tr>\n",
       "      <th>Trujet</th>\n",
       "      <td>1.0</td>\n",
       "      <td>195.000000</td>\n",
       "      <td>NaN</td>\n",
       "      <td>195.0</td>\n",
       "      <td>195.0</td>\n",
       "      <td>195.0</td>\n",
       "      <td>195.00</td>\n",
       "      <td>195.0</td>\n",
       "    </tr>\n",
       "    <tr>\n",
       "      <th>Vistara</th>\n",
       "      <td>479.0</td>\n",
       "      <td>598.413361</td>\n",
       "      <td>553.519349</td>\n",
       "      <td>135.0</td>\n",
       "      <td>160.0</td>\n",
       "      <td>190.0</td>\n",
       "      <td>972.50</td>\n",
       "      <td>1750.0</td>\n",
       "    </tr>\n",
       "    <tr>\n",
       "      <th>Vistara Premium economy</th>\n",
       "      <td>3.0</td>\n",
       "      <td>153.333333</td>\n",
       "      <td>17.559423</td>\n",
       "      <td>135.0</td>\n",
       "      <td>145.0</td>\n",
       "      <td>155.0</td>\n",
       "      <td>162.50</td>\n",
       "      <td>170.0</td>\n",
       "    </tr>\n",
       "  </tbody>\n",
       "</table>\n",
       "</div>"
      ],
      "text/plain": [
       "                                  Duration(minutes)                          \\\n",
       "                                              count        mean         std   \n",
       "Airline                                                                       \n",
       "Air Asia                                      319.0  348.275862  271.237275   \n",
       "Air India                                    1752.0  943.421804  604.195715   \n",
       "GoAir                                         194.0  298.969072  136.836838   \n",
       "IndiGo                                       2053.0  285.406722  218.846252   \n",
       "Jet Airways                                  3849.0  849.733697  507.925442   \n",
       "Jet Airways Business                            6.0  386.666667   96.884811   \n",
       "Multiple carriers                            1196.0  625.769231  156.407344   \n",
       "Multiple carriers Premium economy              13.0  606.538462  173.893941   \n",
       "SpiceJet                                      818.0  178.484108   89.628434   \n",
       "Trujet                                          1.0  195.000000         NaN   \n",
       "Vistara                                       479.0  598.413361  553.519349   \n",
       "Vistara Premium economy                         3.0  153.333333   17.559423   \n",
       "\n",
       "                                                                         \n",
       "                                     min    25%    50%      75%     max  \n",
       "Airline                                                                  \n",
       "Air Asia                           150.0  155.0  170.0   500.00   955.0  \n",
       "Air India                           75.0  320.0  955.0  1440.00  2480.0  \n",
       "GoAir                              155.0  175.0  310.0   370.00   555.0  \n",
       "IndiGo                              85.0  155.0  175.0   320.00   985.0  \n",
       "Jet Airways                         80.0  435.0  800.0  1295.00  2860.0  \n",
       "Jet Airways Business               280.0  310.0  370.0   475.00   500.0  \n",
       "Multiple carriers                  375.0  480.0  615.0   750.00   935.0  \n",
       "Multiple carriers Premium economy  395.0  440.0  620.0   725.00   900.0  \n",
       "SpiceJet                            80.0  140.0  150.0   173.75   520.0  \n",
       "Trujet                             195.0  195.0  195.0   195.00   195.0  \n",
       "Vistara                            135.0  160.0  190.0   972.50  1750.0  \n",
       "Vistara Premium economy            135.0  145.0  155.0   162.50   170.0  "
      ]
     },
     "execution_count": 13,
     "metadata": {},
     "output_type": "execute_result"
    }
   ],
   "source": [
    "df_flights.groupby('Airline').describe()"
   ]
  },
  {
   "cell_type": "code",
   "execution_count": 14,
   "metadata": {},
   "outputs": [
    {
     "data": {
      "text/html": [
       "<div>\n",
       "<style scoped>\n",
       "    .dataframe tbody tr th:only-of-type {\n",
       "        vertical-align: middle;\n",
       "    }\n",
       "\n",
       "    .dataframe tbody tr th {\n",
       "        vertical-align: top;\n",
       "    }\n",
       "\n",
       "    .dataframe thead th {\n",
       "        text-align: right;\n",
       "    }\n",
       "</style>\n",
       "<table border=\"1\" class=\"dataframe\">\n",
       "  <thead>\n",
       "    <tr style=\"text-align: right;\">\n",
       "      <th></th>\n",
       "      <th>Date_of_Journey</th>\n",
       "      <th>Source</th>\n",
       "      <th>Destination</th>\n",
       "      <th>Route</th>\n",
       "      <th>Dep_Time</th>\n",
       "      <th>Arrival_Time</th>\n",
       "      <th>Duration(minutes)</th>\n",
       "      <th>Total_Stops</th>\n",
       "      <th>Additional_Info</th>\n",
       "      <th>Price</th>\n",
       "    </tr>\n",
       "    <tr>\n",
       "      <th>Airline</th>\n",
       "      <th></th>\n",
       "      <th></th>\n",
       "      <th></th>\n",
       "      <th></th>\n",
       "      <th></th>\n",
       "      <th></th>\n",
       "      <th></th>\n",
       "      <th></th>\n",
       "      <th></th>\n",
       "      <th></th>\n",
       "    </tr>\n",
       "  </thead>\n",
       "  <tbody>\n",
       "    <tr>\n",
       "      <th>Air Asia</th>\n",
       "      <td>319</td>\n",
       "      <td>319</td>\n",
       "      <td>319</td>\n",
       "      <td>318</td>\n",
       "      <td>319</td>\n",
       "      <td>319</td>\n",
       "      <td>319</td>\n",
       "      <td>319</td>\n",
       "      <td>319</td>\n",
       "      <td>319</td>\n",
       "    </tr>\n",
       "    <tr>\n",
       "      <th>Air India</th>\n",
       "      <td>1752</td>\n",
       "      <td>1752</td>\n",
       "      <td>1752</td>\n",
       "      <td>1748</td>\n",
       "      <td>1752</td>\n",
       "      <td>1752</td>\n",
       "      <td>1752</td>\n",
       "      <td>1748</td>\n",
       "      <td>1752</td>\n",
       "      <td>1752</td>\n",
       "    </tr>\n",
       "    <tr>\n",
       "      <th>GoAir</th>\n",
       "      <td>194</td>\n",
       "      <td>194</td>\n",
       "      <td>194</td>\n",
       "      <td>194</td>\n",
       "      <td>194</td>\n",
       "      <td>194</td>\n",
       "      <td>194</td>\n",
       "      <td>193</td>\n",
       "      <td>194</td>\n",
       "      <td>194</td>\n",
       "    </tr>\n",
       "    <tr>\n",
       "      <th>IndiGo</th>\n",
       "      <td>2053</td>\n",
       "      <td>2053</td>\n",
       "      <td>2053</td>\n",
       "      <td>2049</td>\n",
       "      <td>2053</td>\n",
       "      <td>2053</td>\n",
       "      <td>2053</td>\n",
       "      <td>2047</td>\n",
       "      <td>2053</td>\n",
       "      <td>2053</td>\n",
       "    </tr>\n",
       "    <tr>\n",
       "      <th>Jet Airways</th>\n",
       "      <td>3849</td>\n",
       "      <td>3849</td>\n",
       "      <td>3849</td>\n",
       "      <td>3848</td>\n",
       "      <td>3849</td>\n",
       "      <td>3849</td>\n",
       "      <td>3849</td>\n",
       "      <td>3843</td>\n",
       "      <td>3849</td>\n",
       "      <td>3849</td>\n",
       "    </tr>\n",
       "    <tr>\n",
       "      <th>Jet Airways Business</th>\n",
       "      <td>6</td>\n",
       "      <td>6</td>\n",
       "      <td>6</td>\n",
       "      <td>6</td>\n",
       "      <td>6</td>\n",
       "      <td>6</td>\n",
       "      <td>6</td>\n",
       "      <td>6</td>\n",
       "      <td>6</td>\n",
       "      <td>6</td>\n",
       "    </tr>\n",
       "    <tr>\n",
       "      <th>Multiple carriers</th>\n",
       "      <td>1196</td>\n",
       "      <td>1196</td>\n",
       "      <td>1196</td>\n",
       "      <td>1194</td>\n",
       "      <td>1196</td>\n",
       "      <td>1196</td>\n",
       "      <td>1196</td>\n",
       "      <td>1193</td>\n",
       "      <td>1196</td>\n",
       "      <td>1196</td>\n",
       "    </tr>\n",
       "    <tr>\n",
       "      <th>Multiple carriers Premium economy</th>\n",
       "      <td>13</td>\n",
       "      <td>13</td>\n",
       "      <td>13</td>\n",
       "      <td>13</td>\n",
       "      <td>13</td>\n",
       "      <td>13</td>\n",
       "      <td>13</td>\n",
       "      <td>13</td>\n",
       "      <td>13</td>\n",
       "      <td>13</td>\n",
       "    </tr>\n",
       "    <tr>\n",
       "      <th>SpiceJet</th>\n",
       "      <td>818</td>\n",
       "      <td>818</td>\n",
       "      <td>818</td>\n",
       "      <td>818</td>\n",
       "      <td>818</td>\n",
       "      <td>818</td>\n",
       "      <td>818</td>\n",
       "      <td>815</td>\n",
       "      <td>818</td>\n",
       "      <td>818</td>\n",
       "    </tr>\n",
       "    <tr>\n",
       "      <th>Trujet</th>\n",
       "      <td>1</td>\n",
       "      <td>1</td>\n",
       "      <td>1</td>\n",
       "      <td>1</td>\n",
       "      <td>1</td>\n",
       "      <td>1</td>\n",
       "      <td>1</td>\n",
       "      <td>1</td>\n",
       "      <td>1</td>\n",
       "      <td>1</td>\n",
       "    </tr>\n",
       "    <tr>\n",
       "      <th>Vistara</th>\n",
       "      <td>479</td>\n",
       "      <td>479</td>\n",
       "      <td>479</td>\n",
       "      <td>475</td>\n",
       "      <td>479</td>\n",
       "      <td>479</td>\n",
       "      <td>479</td>\n",
       "      <td>475</td>\n",
       "      <td>479</td>\n",
       "      <td>479</td>\n",
       "    </tr>\n",
       "    <tr>\n",
       "      <th>Vistara Premium economy</th>\n",
       "      <td>3</td>\n",
       "      <td>3</td>\n",
       "      <td>3</td>\n",
       "      <td>3</td>\n",
       "      <td>3</td>\n",
       "      <td>3</td>\n",
       "      <td>3</td>\n",
       "      <td>3</td>\n",
       "      <td>3</td>\n",
       "      <td>3</td>\n",
       "    </tr>\n",
       "  </tbody>\n",
       "</table>\n",
       "</div>"
      ],
      "text/plain": [
       "                                   Date_of_Journey  Source  Destination  \\\n",
       "Airline                                                                   \n",
       "Air Asia                                       319     319          319   \n",
       "Air India                                     1752    1752         1752   \n",
       "GoAir                                          194     194          194   \n",
       "IndiGo                                        2053    2053         2053   \n",
       "Jet Airways                                   3849    3849         3849   \n",
       "Jet Airways Business                             6       6            6   \n",
       "Multiple carriers                             1196    1196         1196   \n",
       "Multiple carriers Premium economy               13      13           13   \n",
       "SpiceJet                                       818     818          818   \n",
       "Trujet                                           1       1            1   \n",
       "Vistara                                        479     479          479   \n",
       "Vistara Premium economy                          3       3            3   \n",
       "\n",
       "                                   Route  Dep_Time  Arrival_Time  \\\n",
       "Airline                                                            \n",
       "Air Asia                             318       319           319   \n",
       "Air India                           1748      1752          1752   \n",
       "GoAir                                194       194           194   \n",
       "IndiGo                              2049      2053          2053   \n",
       "Jet Airways                         3848      3849          3849   \n",
       "Jet Airways Business                   6         6             6   \n",
       "Multiple carriers                   1194      1196          1196   \n",
       "Multiple carriers Premium economy     13        13            13   \n",
       "SpiceJet                             818       818           818   \n",
       "Trujet                                 1         1             1   \n",
       "Vistara                              475       479           479   \n",
       "Vistara Premium economy                3         3             3   \n",
       "\n",
       "                                   Duration(minutes)  Total_Stops  \\\n",
       "Airline                                                             \n",
       "Air Asia                                         319          319   \n",
       "Air India                                       1752         1748   \n",
       "GoAir                                            194          193   \n",
       "IndiGo                                          2053         2047   \n",
       "Jet Airways                                     3849         3843   \n",
       "Jet Airways Business                               6            6   \n",
       "Multiple carriers                               1196         1193   \n",
       "Multiple carriers Premium economy                 13           13   \n",
       "SpiceJet                                         818          815   \n",
       "Trujet                                             1            1   \n",
       "Vistara                                          479          475   \n",
       "Vistara Premium economy                            3            3   \n",
       "\n",
       "                                   Additional_Info  Price  \n",
       "Airline                                                    \n",
       "Air Asia                                       319    319  \n",
       "Air India                                     1752   1752  \n",
       "GoAir                                          194    194  \n",
       "IndiGo                                        2053   2053  \n",
       "Jet Airways                                   3849   3849  \n",
       "Jet Airways Business                             6      6  \n",
       "Multiple carriers                             1196   1196  \n",
       "Multiple carriers Premium economy               13     13  \n",
       "SpiceJet                                       818    818  \n",
       "Trujet                                           1      1  \n",
       "Vistara                                        479    479  \n",
       "Vistara Premium economy                          3      3  "
      ]
     },
     "execution_count": 14,
     "metadata": {},
     "output_type": "execute_result"
    }
   ],
   "source": [
    "df_flights.groupby('Airline').count()"
   ]
  },
  {
   "cell_type": "code",
   "execution_count": 15,
   "metadata": {},
   "outputs": [],
   "source": [
    "category_count = pd.DataFrame()\n",
    "category_count['count'] = df_flights['Airline'].value_counts()"
   ]
  },
  {
   "cell_type": "code",
   "execution_count": 16,
   "metadata": {},
   "outputs": [
    {
     "data": {
      "text/plain": [
       "Jet Airways                          3849\n",
       "IndiGo                               2053\n",
       "Air India                            1752\n",
       "Multiple carriers                    1196\n",
       "SpiceJet                              818\n",
       "Vistara                               479\n",
       "Air Asia                              319\n",
       "GoAir                                 194\n",
       "Multiple carriers Premium economy      13\n",
       "Jet Airways Business                    6\n",
       "Vistara Premium economy                 3\n",
       "Trujet                                  1\n",
       "Name: count, dtype: int64"
      ]
     },
     "execution_count": 16,
     "metadata": {},
     "output_type": "execute_result"
    }
   ],
   "source": [
    "category_count['count']"
   ]
  },
  {
   "cell_type": "code",
   "execution_count": 36,
   "metadata": {},
   "outputs": [
    {
     "data": {
      "text/plain": [
       "(array([ 0,  1,  2,  3,  4,  5,  6,  7,  8,  9, 10, 11]),\n",
       " [Text(0, 0, 'Jet Airways'),\n",
       "  Text(1, 0, 'IndiGo'),\n",
       "  Text(2, 0, 'Air India'),\n",
       "  Text(3, 0, 'Multiple carriers'),\n",
       "  Text(4, 0, 'SpiceJet'),\n",
       "  Text(5, 0, 'Vistara'),\n",
       "  Text(6, 0, 'Air Asia'),\n",
       "  Text(7, 0, 'GoAir'),\n",
       "  Text(8, 0, 'Multiple carriers Premium economy'),\n",
       "  Text(9, 0, 'Jet Airways Business'),\n",
       "  Text(10, 0, 'Vistara Premium economy'),\n",
       "  Text(11, 0, 'Trujet')])"
      ]
     },
     "execution_count": 36,
     "metadata": {},
     "output_type": "execute_result"
    },
    {
     "data": {
      "image/png": "[encoded data removed]",
      "text/plain": [
       "<Figure size 1008x432 with 1 Axes>"
      ]
     },
     "metadata": {
      "needs_background": "light"
     },
     "output_type": "display_data"
    }
   ],
   "source": [
    "fig , ax = plt.subplots(figsize = (14,6))\n",
    "sn.barplot (x = category_count.index , y = category_count['count'],ax = ax)\n",
    "ax.set_ylabel ('Number of Flights',fontsize = 12)\n",
    "ax.set_xlabel ('Airlines',fontsize = 12)\n",
    "ax.tick_params(labelsize = 10)\n",
    "plt.xticks(rotation = 90)"
   ]
  },
  {
   "cell_type": "code",
   "execution_count": 26,
   "metadata": {},
   "outputs": [
    {
     "data": {
      "image/png": "[encoded data removed]",
      "text/plain": [
       "<Figure size 432x288 with 1 Axes>"
      ]
     },
     "metadata": {
      "needs_background": "light"
     },
     "output_type": "display_data"
    }
   ],
   "source": [
    "sn.countplot(data = df_flights, x = 'Source')\n",
    "plt.ylabel('Number of Flights',fontsize = 10)\n",
    "plt.xlabel('Source',fontsize = 10)\n",
    "ax.tick_params(labelsize = 10)"
   ]
  },
  {
   "cell_type": "code",
   "execution_count": 27,
   "metadata": {},
   "outputs": [
    {
     "data": {
      "text/plain": [
       "(array([0, 1, 2, 3, 4]),\n",
       " [Text(0, 0, 'Banglore'),\n",
       "  Text(1, 0, 'Kolkata'),\n",
       "  Text(2, 0, 'Delhi'),\n",
       "  Text(3, 0, 'Chennai'),\n",
       "  Text(4, 0, 'Mumbai')])"
      ]
     },
     "execution_count": 27,
     "metadata": {},
     "output_type": "execute_result"
    },
    {
     "data": {
      "image/png": "[encoded data removed]",
      "text/plain": [
       "<Figure size 432x288 with 1 Axes>"
      ]
     },
     "metadata": {
      "needs_background": "light"
     },
     "output_type": "display_data"
    }
   ],
   "source": [
    "base_color = sn.color_palette()[0]\n",
    "sn.countplot(data = df_flights, x = 'Source', color = base_color)\n",
    "plt.xticks(rotation = 30)"
   ]
  },
  {
   "cell_type": "code",
   "execution_count": 28,
   "metadata": {},
   "outputs": [
    {
     "data": {
      "text/plain": [
       "<AxesSubplot:xlabel='Source', ylabel='count'>"
      ]
     },
     "execution_count": 28,
     "metadata": {},
     "output_type": "execute_result"
    },
    {
     "data": {
      "image/png": "[encoded data removed]",
      "text/plain": [
       "<Figure size 432x288 with 1 Axes>"
      ]
     },
     "metadata": {
      "needs_background": "light"
     },
     "output_type": "display_data"
    }
   ],
   "source": [
    "base_color = sn.color_palette()[1]\n",
    "general_order = df_flights['Source'].value_counts().index\n",
    "sn.countplot(data = df_flights, x = 'Source', color = base_color, order = general_order)"
   ]
  },
  {
   "cell_type": "code",
   "execution_count": 38,
   "metadata": {},
   "outputs": [
    {
     "data": {
      "text/plain": [
       "(array([ 0,  1,  2,  3,  4,  5,  6,  7,  8,  9, 10, 11]),\n",
       " [Text(0, 0, 'IndiGo'),\n",
       "  Text(1, 0, 'Air India'),\n",
       "  Text(2, 0, 'Jet Airways'),\n",
       "  Text(3, 0, 'SpiceJet'),\n",
       "  Text(4, 0, 'Multiple carriers'),\n",
       "  Text(5, 0, 'GoAir'),\n",
       "  Text(6, 0, 'Vistara'),\n",
       "  Text(7, 0, 'Air Asia'),\n",
       "  Text(8, 0, 'Vistara Premium economy'),\n",
       "  Text(9, 0, 'Jet Airways Business'),\n",
       "  Text(10, 0, 'Multiple carriers Premium economy'),\n",
       "  Text(11, 0, 'Trujet')])"
      ]
     },
     "execution_count": 38,
     "metadata": {},
     "output_type": "execute_result"
    },
    {
     "data": {
      "image/png": "[encoded data removed]",
      "text/plain": [
       "<Figure size 432x288 with 1 Axes>"
      ]
     },
     "metadata": {
      "needs_background": "light"
     },
     "output_type": "display_data"
    }
   ],
   "source": [
    "base_color = sn.color_palette()[2]\n",
    "sn.countplot(data = df_flights, x = 'Airline', color = base_color)\n",
    "plt.xticks(rotation = 270)"
   ]
  },
  {
   "cell_type": "code",
   "execution_count": 40,
   "metadata": {},
   "outputs": [
    {
     "data": {
      "text/plain": [
       "(array([ 0,  1,  2,  3,  4,  5,  6,  7,  8,  9, 10, 11]),\n",
       " [Text(0, 0, 'IndiGo'),\n",
       "  Text(1, 0, 'Air India'),\n",
       "  Text(2, 0, 'Jet Airways'),\n",
       "  Text(3, 0, 'SpiceJet'),\n",
       "  Text(4, 0, 'Multiple carriers'),\n",
       "  Text(5, 0, 'GoAir'),\n",
       "  Text(6, 0, 'Vistara'),\n",
       "  Text(7, 0, 'Air Asia'),\n",
       "  Text(8, 0, 'Vistara Premium economy'),\n",
       "  Text(9, 0, 'Jet Airways Business'),\n",
       "  Text(10, 0, 'Multiple carriers Premium economy'),\n",
       "  Text(11, 0, 'Trujet')])"
      ]
     },
     "execution_count": 40,
     "metadata": {},
     "output_type": "execute_result"
    },
    {
     "data": {
      "image/png": "[encoded data removed]",
      "text/plain": [
       "<Figure size 432x288 with 1 Axes>"
      ]
     },
     "metadata": {
      "needs_background": "light"
     },
     "output_type": "display_data"
    }
   ],
   "source": [
    "base_color = sn.color_palette()[3]\n",
    "sn.countplot(data = df_flights, x = 'Airline', color = base_color)\n",
    "plt.xticks(rotation = 90)"
   ]
  },
  {
   "cell_type": "code",
   "execution_count": 41,
   "metadata": {},
   "outputs": [
    {
     "data": {
      "text/plain": [
       "Airline               0\n",
       "Date_of_Journey       0\n",
       "Source                0\n",
       "Destination           0\n",
       "Route                16\n",
       "Dep_Time              0\n",
       "Arrival_Time          0\n",
       "Duration(minutes)     0\n",
       "Total_Stops          27\n",
       "Additional_Info       0\n",
       "Price                 0\n",
       "dtype: int64"
      ]
     },
     "execution_count": 41,
     "metadata": {},
     "output_type": "execute_result"
    }
   ],
   "source": [
    "df_flights.isna().sum()"
   ]
  },
  {
   "cell_type": "code",
   "execution_count": 45,
   "metadata": {},
   "outputs": [
    {
     "name": "stderr",
     "output_type": "stream",
     "text": [
      "/Users/jaswanthjerripothula/opt/anaconda3/lib/python3.8/site-packages/seaborn/_decorators.py:36: FutureWarning: Pass the following variables as keyword args: x, y. From version 0.12, the only valid positional argument will be `data`, and passing other arguments without an explicit keyword will result in an error or misinterpretation.\n",
      "  warnings.warn(\n"
     ]
    },
    {
     "data": {
      "text/plain": [
       "(array([ 0,  1,  2,  3,  4,  5,  6,  7,  8,  9, 10]),\n",
       " [Text(0, 0, 'Airline'),\n",
       "  Text(1, 0, 'Date_of_Journey'),\n",
       "  Text(2, 0, 'Source'),\n",
       "  Text(3, 0, 'Destination'),\n",
       "  Text(4, 0, 'Route'),\n",
       "  Text(5, 0, 'Dep_Time'),\n",
       "  Text(6, 0, 'Arrival_Time'),\n",
       "  Text(7, 0, 'Duration(minutes)'),\n",
       "  Text(8, 0, 'Total_Stops'),\n",
       "  Text(9, 0, 'Additional_Info'),\n",
       "  Text(10, 0, 'Price')])"
      ]
     },
     "execution_count": 45,
     "metadata": {},
     "output_type": "execute_result"
    },
    {
     "data": {
      "image/png": "[encoded data removed]",
      "text/plain": [
       "<Figure size 432x288 with 1 Axes>"
      ]
     },
     "metadata": {
      "needs_background": "light"
     },
     "output_type": "display_data"
    }
   ],
   "source": [
    "ns_counts = df_flights.isna().sum()\n",
    "base_color = sn.color_palette()[0]\n",
    "sn.barplot(ns_counts.index.values, ns_counts, color = base_color)\n",
    "plt.ylabel('Number of missing values',fontsize = 10)\n",
    "plt.xticks(rotation = 90)"
   ]
  },
  {
   "cell_type": "code",
   "execution_count": 47,
   "metadata": {},
   "outputs": [],
   "source": [
    "#Preprocessing Tweets for removing punctuations(! , '), @ , # , https , special characters\n",
    "def processMessage(tweet):\n",
    "    from string import punctuation\n",
    "    tweet = re.sub(r'\\&\\w*;','',tweet)\n",
    "    tweet = re.sub('@[^\\s]+','',tweet)\n",
    "    tweet = re.sub(r'\\$\\w*','',tweet)\n",
    "    tweet = tweet.lower()\n",
    "    tweet = re.sub(r'https?:\\/\\/.*\\/\\w*','',tweet)\n",
    "    tweet = re.sub(r'#\\w*','',tweet)\n",
    "    tweet = re.sub(r'['+punctuation.replace('@','')+']+','',tweet)\n",
    "    tweet = re.sub(r'\\b\\w{1,2}\\b','',tweet)\n",
    "    tweet = re.sub(r'\\s\\s+',' ',tweet)\n",
    "    tweet = tweet.lstrip(' ')\n",
    "    tweet = ''.join(c for c in tweet if c <= '\\uFFFF')\n",
    "    return tweet"
   ]
  },
  {
   "cell_type": "code",
   "execution_count": 58,
   "metadata": {},
   "outputs": [
    {
     "data": {
      "text/plain": [
       "Text(0.5, 1.0, 'Flight Destination\\n')"
      ]
     },
     "execution_count": 58,
     "metadata": {},
     "output_type": "execute_result"
    },
    {
     "data": {
      "image/png": "[encoded data removed]",
      "text/plain": [
       "<Figure size 432x288 with 1 Axes>"
      ]
     },
     "metadata": {},
     "output_type": "display_data"
    }
   ],
   "source": [
    "sort_counts = df_flights['Destination'].value_counts()\n",
    "plt.pie(sort_counts, labels = sort_counts.index, startangle = 90, counterclock = False);\n",
    "plt.axis('square')\n",
    "plt.title('Flight Destination\\n')"
   ]
  },
  {
   "cell_type": "code",
   "execution_count": 59,
   "metadata": {},
   "outputs": [
    {
     "data": {
      "text/plain": [
       "Text(0.5, 1.0, 'Flight Source\\n')"
      ]
     },
     "execution_count": 59,
     "metadata": {},
     "output_type": "execute_result"
    },
    {
     "data": {
      "image/png": "[encoded data removed]",
      "text/plain": [
       "<Figure size 432x288 with 1 Axes>"
      ]
     },
     "metadata": {},
     "output_type": "display_data"
    }
   ],
   "source": [
    "sort_counts = df_flights['Source'].value_counts()\n",
    "plt.pie(sort_counts, labels = sort_counts.index, startangle = 90, counterclock = False);\n",
    "plt.axis('square')\n",
    "plt.title('Flight Source\\n')"
   ]
  },
  {
   "cell_type": "code",
   "execution_count": 60,
   "metadata": {},
   "outputs": [
    {
     "data": {
      "text/plain": [
       "(array([4.198e+03, 1.988e+03, 1.720e+03, 7.870e+02, 9.310e+02, 8.450e+02,\n",
       "        1.320e+02, 7.000e+01, 1.000e+01, 2.000e+00]),\n",
       " array([  75. ,  353.5,  632. ,  910.5, 1189. , 1467.5, 1746. , 2024.5,\n",
       "        2303. , 2581.5, 2860. ]),\n",
       " <BarContainer object of 10 artists>)"
      ]
     },
     "execution_count": 60,
     "metadata": {},
     "output_type": "execute_result"
    },
    {
     "data": {
      "image/png": "[encoded data removed]",
      "text/plain": [
       "<Figure size 432x288 with 1 Axes>"
      ]
     },
     "metadata": {
      "needs_background": "light"
     },
     "output_type": "display_data"
    }
   ],
   "source": [
    "plt.hist(data = df_flights, x = 'Duration(minutes)')"
   ]
  },
  {
   "cell_type": "code",
   "execution_count": 65,
   "metadata": {},
   "outputs": [
    {
     "data": {
      "text/plain": [
       "(array([1799., 1775.,  905.,  919.,  545.,  560.,  489.,  361.,  323.,\n",
       "         411.,  265.,  236.,  211.,  202.,  169.,  155.,  139.,  114.,\n",
       "         125.,  113.,  118.,  117.,  102.,   85.,   79.,   83.,   79.,\n",
       "          70.,   71.,   63.]),\n",
       " array([   0. ,   61.6,  123.2,  184.8,  246.4,  308. ,  369.6,  431.2,\n",
       "         492.8,  554.4,  616. ,  677.6,  739.2,  800.8,  862.4,  924. ,\n",
       "         985.6, 1047.2, 1108.8, 1170.4, 1232. , 1293.6, 1355.2, 1416.8,\n",
       "        1478.4, 1540. , 1601.6, 1663.2, 1724.8, 1786.4, 1848. ]),\n",
       " <BarContainer object of 30 artists>)"
      ]
     },
     "execution_count": 65,
     "metadata": {},
     "output_type": "execute_result"
    },
    {
     "data": {
      "image/png": "[encoded data removed]",
      "text/plain": [
       "<Figure size 432x288 with 1 Axes>"
      ]
     },
     "metadata": {
      "needs_background": "light"
     },
     "output_type": "display_data"
    }
   ],
   "source": [
    "plt.hist(data = df_flights, x = 'Price', bins = 30)"
   ]
  },
  {
   "cell_type": "code",
   "execution_count": 74,
   "metadata": {},
   "outputs": [
    {
     "data": {
      "text/plain": [
       "Text(0.5, 1.0, 'Total Stops\\n')"
      ]
     },
     "execution_count": 74,
     "metadata": {},
     "output_type": "execute_result"
    },
    {
     "data": {
      "image/png": "[encoded data removed]",
      "text/plain": [
       "<Figure size 432x288 with 1 Axes>"
      ]
     },
     "metadata": {},
     "output_type": "display_data"
    }
   ],
   "source": [
    "sort_counts = df_flights['Total_Stops'].value_counts()\n",
    "plt.pie(sort_counts, labels = sort_counts.index, startangle = 90, counterclock = False);\n",
    "plt.axis('square')\n",
    "plt.title('Total Stops\\n')"
   ]
  },
  {
   "cell_type": "code",
   "execution_count": 75,
   "metadata": {},
   "outputs": [
    {
     "name": "stdout",
     "output_type": "stream",
     "text": [
      "********Flight_Data_Project is done successfully**********\n"
     ]
    }
   ],
   "source": [
    "print('********Flight_Data_Project is done successfully**********')"
   ]
  }
 ],
 "metadata": {
  "kernelspec": {
   "display_name": "Python 3",
   "language": "python",
   "name": "python3"
  },
  "language_info": {
   "codemirror_mode": {
    "name": "ipython",
    "version": 3
   },
   "file_extension": ".py",
   "mimetype": "text/x-python",
   "name": "python",
   "nbconvert_exporter": "python",
   "pygments_lexer": "ipython3",
   "version": "3.8.5"
  }
 },
 "nbformat": 4,
 "nbformat_minor": 4
}
